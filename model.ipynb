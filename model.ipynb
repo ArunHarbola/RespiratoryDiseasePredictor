{
 "cells": [
  {
   "cell_type": "code",
   "execution_count": 1,
   "metadata": {},
   "outputs": [],
   "source": [
    "import os\n",
    "import tensorflow as tf \n",
    "import tensorflow_io as tfio\n",
    "\n",
    "from datetime import datetime\n",
    "from os import listdir\n",
    "from os.path import isfile, join\n",
    "\n",
    "import librosa\n",
    "import librosa.display\n",
    "import IPython.display as ipd\n",
    "\n",
    "import numpy as np\n",
    "import pandas as pd\n",
    "\n",
    "from keras.models import Sequential\n",
    "from keras.layers import Dense, Dropout, Conv2D, MaxPooling2D, GlobalAveragePooling2D, BatchNormalization, Flatten, LSTM, TimeDistributed\n",
    "from keras.utils import to_categorical\n",
    "from keras.callbacks import ModelCheckpoint\n",
    "\n",
    "from sklearn.metrics import confusion_matrix, classification_report, roc_curve, auc\n",
    "from sklearn.model_selection import train_test_split\n",
    "from sklearn.preprocessing import LabelEncoder\n",
    "\n",
    "import matplotlib.pyplot as plt\n",
    "import seaborn as sns"
   ]
  },
  {
   "cell_type": "code",
   "execution_count": 2,
   "metadata": {},
   "outputs": [
    {
     "name": "stdout",
     "output_type": "stream",
     "text": [
      "./RespiratorySoundDatabase/Respiratory_Sound_Database/Respiratory_Sound_Database/audio_and_txt_files/\n"
     ]
    }
   ],
   "source": [
    "mypath = './RespiratorySoundDatabase/Respiratory_Sound_Database/Respiratory_Sound_Database/audio_and_txt_files/'\n",
    "filenames = [f for f in listdir(mypath) if (isfile(join(mypath, f)) and f.endswith('.wav'))] \n",
    "print(mypath)"
   ]
  },
  {
   "cell_type": "code",
   "execution_count": 3,
   "metadata": {},
   "outputs": [],
   "source": [
    "p_id_in_file = [] # patient IDs corresponding to each file\n",
    "for name in filenames:\n",
    "    p_id_in_file.append(int(name[:3]))\n",
    "\n",
    "p_id_in_file = np.array(p_id_in_file)\n",
    "# print(p_id_in_file)"
   ]
  },
  {
   "cell_type": "code",
   "execution_count": 4,
   "metadata": {},
   "outputs": [
    {
     "data": {
      "text/plain": [
       "array([[-4.64041199e+02, -4.18290039e+02, -3.87566589e+02, ...,\n",
       "         0.00000000e+00,  0.00000000e+00,  0.00000000e+00],\n",
       "       [ 8.44875793e+01,  1.36891495e+02,  1.71178497e+02, ...,\n",
       "         0.00000000e+00,  0.00000000e+00,  0.00000000e+00],\n",
       "       [ 6.75648041e+01,  8.99741745e+01,  1.04197815e+02, ...,\n",
       "         0.00000000e+00,  0.00000000e+00,  0.00000000e+00],\n",
       "       ...,\n",
       "       [-2.82355607e-01,  2.05963564e+00,  1.22030616e+00, ...,\n",
       "         0.00000000e+00,  0.00000000e+00,  0.00000000e+00],\n",
       "       [-6.52661860e-01,  1.89648938e+00,  5.53389192e-01, ...,\n",
       "         0.00000000e+00,  0.00000000e+00,  0.00000000e+00],\n",
       "       [-6.38449073e-01,  7.99845815e-01, -1.81964302e+00, ...,\n",
       "         0.00000000e+00,  0.00000000e+00,  0.00000000e+00]], dtype=float32)"
      ]
     },
     "execution_count": 4,
     "metadata": {},
     "output_type": "execute_result"
    }
   ],
   "source": [
    "max_pad_len = 862 # to make the length of all MFCC equal\n",
    "\n",
    "def extract_features(file_name):\n",
    "    \"\"\"\n",
    "    This function takes in the path for an audio file as a string, loads it, and returns the MFCC\n",
    "    of the audio\"\"\"\n",
    "   \n",
    "    try:\n",
    "        audio, sample_rate = librosa.load(file_name, duration=20) \n",
    "        mfccs = librosa.feature.mfcc(y=audio, sr=sample_rate, n_mfcc=40)\n",
    "    \n",
    "        pad_width = max_pad_len - mfccs.shape[1]\n",
    "        mfccs = np.pad(mfccs, pad_width=((0, 0), (0, pad_width)), mode='constant')\n",
    "        \n",
    "    except Exception as e:\n",
    "        print(\"Error encountered while parsing file: \", file_name)\n",
    "        return None \n",
    "    return mfccs\n",
    "\n",
    "extract_features(rf'RespiratorySoundDatabase\\Respiratory_Sound_Database\\Respiratory_Sound_Database\\audio_and_txt_files\\104_1b1_Ll_sc_Litt3200.wav')\n"
   ]
  },
  {
   "cell_type": "code",
   "execution_count": 5,
   "metadata": {},
   "outputs": [],
   "source": [
    "filepaths = [join(mypath, f) for f in filenames] # full paths of files\n",
    "\n",
    "# for f in filepaths:\n",
    "#     print(f)"
   ]
  },
  {
   "cell_type": "code",
   "execution_count": 6,
   "metadata": {},
   "outputs": [
    {
     "name": "stdout",
     "output_type": "stream",
     "text": [
      "       0          1\n",
      "0    101       URTI\n",
      "1    102    Healthy\n",
      "2    103       COPD\n",
      "3    104       COPD\n",
      "4    105       URTI\n",
      "..   ...        ...\n",
      "121  222       COPD\n",
      "122  223       COPD\n",
      "123  224    Healthy\n",
      "124  225    Healthy\n",
      "125  226  Pneumonia\n",
      "\n",
      "[126 rows x 2 columns]\n"
     ]
    }
   ],
   "source": [
    "p_diag = pd.read_csv(\"./RespiratorySoundDatabase/Respiratory_Sound_Database/Respiratory_Sound_Database/patient_diagnosis.csv\",header=None) # patient diagnosis file\n",
    "print(p_diag)"
   ]
  },
  {
   "cell_type": "code",
   "execution_count": 7,
   "metadata": {},
   "outputs": [
    {
     "name": "stdout",
     "output_type": "stream",
     "text": [
      "<class 'list'>\n",
      "920\n"
     ]
    }
   ],
   "source": [
    "# labels = np.array([p_diag[p_diag[0] == x][1].values[0] for x in p_id_in_file]) # labels for audio files\n",
    "\n",
    "labels = [p_diag[p_diag[0] == x][1].values[0] for x in p_id_in_file]\n",
    "print(type(labels))\n",
    "print(len(labels))\n",
    "# print(labels)"
   ]
  },
  {
   "cell_type": "code",
   "execution_count": 8,
   "metadata": {},
   "outputs": [
    {
     "name": "stdout",
     "output_type": "stream",
     "text": [
      "Finished feature extraction from  920  files\n"
     ]
    }
   ],
   "source": [
    "from soundfile import SoundFile\n",
    "features = []\n",
    "idx = 0 \n",
    "# Iterate through each sound file and extract the features\n",
    "for file_name in filepaths:\n",
    "    with SoundFile(file_name, 'r') as file_name:\n",
    "        data = extract_features(file_name)\n",
    "        features.append(data)\n",
    "\n",
    "print('Finished feature extraction from ', len(features), ' files')\n",
    "# features = np.array(features,dtype=object).flatten() \n",
    "# for i in features:\n",
    "#     print(i)"
   ]
  },
  {
   "cell_type": "code",
   "execution_count": 9,
   "metadata": {},
   "outputs": [],
   "source": [
    "# print(len(features))"
   ]
  },
  {
   "cell_type": "code",
   "execution_count": 10,
   "metadata": {},
   "outputs": [
    {
     "name": "stdout",
     "output_type": "stream",
     "text": [
      "<class 'list'>\n",
      "<class 'list'>\n",
      "<class 'numpy.ndarray'>\n",
      "<class 'numpy.ndarray'>\n"
     ]
    }
   ],
   "source": [
    "X = features\n",
    "y = labels\n",
    "print(type(X))\n",
    "print(type(y))\n",
    "X = np.array(X)\n",
    "y = np.array(y)\n",
    "print(type(X))\n",
    "print(type(y))"
   ]
  },
  {
   "cell_type": "code",
   "execution_count": 11,
   "metadata": {},
   "outputs": [
    {
     "name": "stdout",
     "output_type": "stream",
     "text": [
      "736\n",
      "736\n",
      "184\n",
      "184\n",
      "40\n",
      "(736, 6)\n",
      "(184, 6)\n"
     ]
    }
   ],
   "source": [
    "# Split data into training and testing sets\n",
    "X_train, X_test, y_train, y_test = train_test_split(X, y, test_size=0.2, random_state=42)\n",
    "print(len(X_train))\n",
    "print(len(y_train))\n",
    "print(len(X_test))\n",
    "print(len(y_test))\n",
    "print(len(X_train[0]))\n",
    "\n",
    "from keras.utils import to_categorical\n",
    "\n",
    "# One-hot encode the training labels\n",
    "# y_train = to_categorical(y_train)\n",
    "# print(y_train)\n",
    "# y_test = to_categorical(y_test)\n",
    "from sklearn.preprocessing import LabelBinarizer\n",
    "\n",
    "# Create an instance of LabelBinarizer\n",
    "label_binarizer = LabelBinarizer()\n",
    "\n",
    "# Fit and transform the training labels\n",
    "y_train = label_binarizer.fit_transform(y_train)\n",
    "\n",
    "# Print the shape of the encoded labels\n",
    "print(y_train.shape)\n",
    "y_test = label_binarizer.fit_transform(y_test)\n",
    "print(y_test.shape)"
   ]
  },
  {
   "cell_type": "code",
   "execution_count": 12,
   "metadata": {},
   "outputs": [],
   "source": [
    "num_rows = 40\n",
    "num_columns = 862\n",
    "num_channels = 1\n",
    "model = Sequential()\n",
    "model.add(Conv2D(64, kernel_size=5, strides=1, padding='same', input_shape=(num_rows, num_columns, num_channels), activation='relu'))\n",
    "model.add(BatchNormalization())\n",
    "model.add(MaxPooling2D(pool_size=(2,2)))\n",
    "\n",
    "model.add(Conv2D(128, kernel_size=5, strides=1, padding='same', activation='relu'))\n",
    "model.add(BatchNormalization())\n",
    "model.add(MaxPooling2D(pool_size=(2,2)))\n",
    "model.add(Dropout(0.3))\n",
    "\n",
    "model.add(Flatten())\n",
    "model.add(Dense(256, activation='relu'))\n",
    "model.add(Dense(512, activation='relu'))\n",
    "model.add(Dense(6, activation='softmax'))\n"
   ]
  },
  {
   "cell_type": "code",
   "execution_count": 13,
   "metadata": {},
   "outputs": [],
   "source": [
    "model.compile(loss='categorical_crossentropy', metrics=['accuracy'], optimizer='adam') "
   ]
  },
  {
   "cell_type": "code",
   "execution_count": 14,
   "metadata": {},
   "outputs": [
    {
     "name": "stdout",
     "output_type": "stream",
     "text": [
      "Model: \"sequential\"\n",
      "_________________________________________________________________\n",
      " Layer (type)                Output Shape              Param #   \n",
      "=================================================================\n",
      " conv2d (Conv2D)             (None, 40, 862, 64)       1664      \n",
      "                                                                 \n",
      " batch_normalization (BatchN  (None, 40, 862, 64)      256       \n",
      " ormalization)                                                   \n",
      "                                                                 \n",
      " max_pooling2d (MaxPooling2D  (None, 20, 431, 64)      0         \n",
      " )                                                               \n",
      "                                                                 \n",
      " conv2d_1 (Conv2D)           (None, 20, 431, 128)      204928    \n",
      "                                                                 \n",
      " batch_normalization_1 (Batc  (None, 20, 431, 128)     512       \n",
      " hNormalization)                                                 \n",
      "                                                                 \n",
      " max_pooling2d_1 (MaxPooling  (None, 10, 215, 128)     0         \n",
      " 2D)                                                             \n",
      "                                                                 \n",
      " dropout (Dropout)           (None, 10, 215, 128)      0         \n",
      "                                                                 \n",
      " flatten (Flatten)           (None, 275200)            0         \n",
      "                                                                 \n",
      " dense (Dense)               (None, 256)               70451456  \n",
      "                                                                 \n",
      " dense_1 (Dense)             (None, 512)               131584    \n",
      "                                                                 \n",
      " dense_2 (Dense)             (None, 6)                 3078      \n",
      "                                                                 \n",
      "=================================================================\n",
      "Total params: 70,793,478\n",
      "Trainable params: 70,793,094\n",
      "Non-trainable params: 384\n",
      "_________________________________________________________________\n"
     ]
    }
   ],
   "source": [
    "model.summary()"
   ]
  },
  {
   "cell_type": "code",
   "execution_count": 15,
   "metadata": {},
   "outputs": [
    {
     "name": "stdout",
     "output_type": "stream",
     "text": [
      "Epoch 1/100\n",
      "23/23 [==============================] - 64s 3s/step - loss: 48.4769 - accuracy: 0.6943 - val_loss: 83.0158 - val_accuracy: 0.8152\n",
      "Epoch 2/100\n",
      "23/23 [==============================] - 61s 3s/step - loss: 8.7446 - accuracy: 0.8125 - val_loss: 37.5010 - val_accuracy: 0.0217\n",
      "Epoch 3/100\n",
      "23/23 [==============================] - 60s 3s/step - loss: 2.3988 - accuracy: 0.8288 - val_loss: 13.9040 - val_accuracy: 0.6467\n",
      "Epoch 4/100\n",
      "23/23 [==============================] - 61s 3s/step - loss: 1.0257 - accuracy: 0.8451 - val_loss: 7.7264 - val_accuracy: 0.2717\n",
      "Epoch 5/100\n",
      "23/23 [==============================] - 60s 3s/step - loss: 0.9861 - accuracy: 0.8451 - val_loss: 4.3925 - val_accuracy: 0.5217\n",
      "Epoch 6/100\n",
      "23/23 [==============================] - 60s 3s/step - loss: 0.5981 - accuracy: 0.8533 - val_loss: 2.4355 - val_accuracy: 0.5326\n",
      "Epoch 7/100\n",
      "23/23 [==============================] - 60s 3s/step - loss: 0.5129 - accuracy: 0.8628 - val_loss: 1.2484 - val_accuracy: 0.7935\n",
      "Epoch 8/100\n",
      "23/23 [==============================] - 61s 3s/step - loss: 0.3649 - accuracy: 0.8899 - val_loss: 1.6086 - val_accuracy: 0.7174\n",
      "Epoch 9/100\n",
      "23/23 [==============================] - 60s 3s/step - loss: 0.3206 - accuracy: 0.8967 - val_loss: 1.6233 - val_accuracy: 0.6413\n",
      "Epoch 10/100\n",
      "23/23 [==============================] - 66s 3s/step - loss: 0.2933 - accuracy: 0.8995 - val_loss: 1.2608 - val_accuracy: 0.6793\n",
      "Epoch 11/100\n",
      "23/23 [==============================] - 58s 3s/step - loss: 0.3936 - accuracy: 0.9008 - val_loss: 1.0327 - val_accuracy: 0.8152\n",
      "Epoch 12/100\n",
      "23/23 [==============================] - 60s 3s/step - loss: 0.3634 - accuracy: 0.8899 - val_loss: 0.8290 - val_accuracy: 0.8043\n",
      "Epoch 13/100\n",
      "23/23 [==============================] - 58s 3s/step - loss: 0.3520 - accuracy: 0.8913 - val_loss: 0.9591 - val_accuracy: 0.8207\n",
      "Epoch 14/100\n",
      "23/23 [==============================] - 59s 3s/step - loss: 0.4341 - accuracy: 0.8777 - val_loss: 1.2115 - val_accuracy: 0.8043\n",
      "Epoch 15/100\n",
      "23/23 [==============================] - 60s 3s/step - loss: 0.4288 - accuracy: 0.8696 - val_loss: 1.8771 - val_accuracy: 0.5707\n",
      "Epoch 16/100\n",
      "23/23 [==============================] - 61s 3s/step - loss: 0.3656 - accuracy: 0.8696 - val_loss: 0.7703 - val_accuracy: 0.8098\n",
      "Epoch 17/100\n",
      "23/23 [==============================] - 58s 3s/step - loss: 0.3137 - accuracy: 0.8859 - val_loss: 0.6639 - val_accuracy: 0.8043\n",
      "Epoch 18/100\n",
      "23/23 [==============================] - 59s 3s/step - loss: 0.5180 - accuracy: 0.8832 - val_loss: 0.8514 - val_accuracy: 0.8043\n",
      "Epoch 19/100\n",
      "23/23 [==============================] - 57s 2s/step - loss: 0.5045 - accuracy: 0.8791 - val_loss: 0.8058 - val_accuracy: 0.8098\n",
      "Epoch 20/100\n",
      "23/23 [==============================] - 58s 3s/step - loss: 0.3858 - accuracy: 0.8859 - val_loss: 0.8703 - val_accuracy: 0.7989\n",
      "Epoch 21/100\n",
      "23/23 [==============================] - 56s 2s/step - loss: 0.3261 - accuracy: 0.8777 - val_loss: 1.0146 - val_accuracy: 0.8152\n",
      "Epoch 22/100\n",
      "23/23 [==============================] - 55s 2s/step - loss: 0.3454 - accuracy: 0.8859 - val_loss: 1.0532 - val_accuracy: 0.8152\n",
      "Epoch 23/100\n",
      "23/23 [==============================] - 56s 2s/step - loss: 0.4917 - accuracy: 0.8845 - val_loss: 0.7385 - val_accuracy: 0.8043\n",
      "Epoch 24/100\n",
      "23/23 [==============================] - 56s 2s/step - loss: 0.2799 - accuracy: 0.8899 - val_loss: 1.0267 - val_accuracy: 0.8043\n",
      "Epoch 25/100\n",
      "23/23 [==============================] - 56s 2s/step - loss: 0.2684 - accuracy: 0.8872 - val_loss: 1.7008 - val_accuracy: 0.8152\n",
      "Epoch 26/100\n",
      "23/23 [==============================] - 55s 2s/step - loss: 0.2760 - accuracy: 0.8818 - val_loss: 0.8338 - val_accuracy: 0.8152\n",
      "Epoch 27/100\n",
      "23/23 [==============================] - 55s 2s/step - loss: 0.2558 - accuracy: 0.8859 - val_loss: 0.9361 - val_accuracy: 0.8207\n",
      "Epoch 28/100\n",
      "23/23 [==============================] - 55s 2s/step - loss: 0.2323 - accuracy: 0.8899 - val_loss: 0.9576 - val_accuracy: 0.8261\n",
      "Epoch 29/100\n",
      "23/23 [==============================] - 56s 2s/step - loss: 0.2276 - accuracy: 0.9022 - val_loss: 0.8720 - val_accuracy: 0.8478\n",
      "Epoch 30/100\n",
      "23/23 [==============================] - 56s 2s/step - loss: 0.2496 - accuracy: 0.8995 - val_loss: 0.9114 - val_accuracy: 0.8370\n",
      "Epoch 31/100\n",
      "23/23 [==============================] - 55s 2s/step - loss: 0.2625 - accuracy: 0.9008 - val_loss: 0.9543 - val_accuracy: 0.8478\n",
      "Epoch 32/100\n",
      "23/23 [==============================] - 55s 2s/step - loss: 0.2260 - accuracy: 0.9076 - val_loss: 0.7345 - val_accuracy: 0.8315\n",
      "Epoch 33/100\n",
      "23/23 [==============================] - 56s 2s/step - loss: 0.2301 - accuracy: 0.9090 - val_loss: 0.8895 - val_accuracy: 0.8424\n",
      "Epoch 34/100\n",
      "23/23 [==============================] - 55s 2s/step - loss: 0.2645 - accuracy: 0.8927 - val_loss: 0.9871 - val_accuracy: 0.8315\n",
      "Epoch 35/100\n",
      "23/23 [==============================] - 55s 2s/step - loss: 0.2425 - accuracy: 0.8954 - val_loss: 0.6523 - val_accuracy: 0.8043\n",
      "Epoch 36/100\n",
      "23/23 [==============================] - 55s 2s/step - loss: 0.3238 - accuracy: 0.8832 - val_loss: 1.3974 - val_accuracy: 0.8315\n",
      "Epoch 37/100\n",
      "23/23 [==============================] - 56s 2s/step - loss: 0.2174 - accuracy: 0.9076 - val_loss: 1.3526 - val_accuracy: 0.8261\n",
      "Epoch 38/100\n",
      "23/23 [==============================] - 56s 2s/step - loss: 0.2205 - accuracy: 0.9049 - val_loss: 1.8177 - val_accuracy: 0.8261\n",
      "Epoch 39/100\n",
      "23/23 [==============================] - 55s 2s/step - loss: 0.2015 - accuracy: 0.9158 - val_loss: 0.9094 - val_accuracy: 0.8370\n",
      "Epoch 40/100\n",
      "23/23 [==============================] - 55s 2s/step - loss: 0.2100 - accuracy: 0.9130 - val_loss: 1.1110 - val_accuracy: 0.8315\n",
      "Epoch 41/100\n",
      "23/23 [==============================] - 55s 2s/step - loss: 0.2211 - accuracy: 0.9090 - val_loss: 1.3056 - val_accuracy: 0.8315\n",
      "Epoch 42/100\n",
      "23/23 [==============================] - 56s 2s/step - loss: 0.1905 - accuracy: 0.9198 - val_loss: 1.1190 - val_accuracy: 0.8207\n",
      "Epoch 43/100\n",
      "23/23 [==============================] - 56s 2s/step - loss: 0.1980 - accuracy: 0.9198 - val_loss: 0.8119 - val_accuracy: 0.8370\n",
      "Epoch 44/100\n",
      "23/23 [==============================] - 55s 2s/step - loss: 0.1964 - accuracy: 0.9171 - val_loss: 1.7593 - val_accuracy: 0.8261\n",
      "Epoch 45/100\n",
      "23/23 [==============================] - 57s 2s/step - loss: 0.2139 - accuracy: 0.9090 - val_loss: 0.6437 - val_accuracy: 0.8370\n",
      "Epoch 46/100\n",
      "23/23 [==============================] - 59s 3s/step - loss: 0.2057 - accuracy: 0.9103 - val_loss: 1.1763 - val_accuracy: 0.8261\n",
      "Epoch 47/100\n",
      "23/23 [==============================] - 59s 3s/step - loss: 0.1808 - accuracy: 0.9212 - val_loss: 1.0591 - val_accuracy: 0.8315\n",
      "Epoch 48/100\n",
      "23/23 [==============================] - 58s 3s/step - loss: 0.1633 - accuracy: 0.9307 - val_loss: 1.1376 - val_accuracy: 0.8098\n",
      "Epoch 49/100\n",
      "23/23 [==============================] - 59s 3s/step - loss: 0.2266 - accuracy: 0.9185 - val_loss: 0.9765 - val_accuracy: 0.8587\n",
      "Epoch 50/100\n",
      "23/23 [==============================] - 61s 3s/step - loss: 0.2499 - accuracy: 0.9062 - val_loss: 1.1896 - val_accuracy: 0.8424\n",
      "Epoch 51/100\n",
      "23/23 [==============================] - 63s 3s/step - loss: 0.1801 - accuracy: 0.9266 - val_loss: 1.3303 - val_accuracy: 0.8478\n",
      "Epoch 52/100\n",
      "23/23 [==============================] - 62s 3s/step - loss: 0.1809 - accuracy: 0.9253 - val_loss: 0.9355 - val_accuracy: 0.8533\n",
      "Epoch 53/100\n",
      "23/23 [==============================] - 61s 3s/step - loss: 0.3562 - accuracy: 0.9198 - val_loss: 2.1766 - val_accuracy: 0.8370\n",
      "Epoch 54/100\n",
      "23/23 [==============================] - 62s 3s/step - loss: 0.5474 - accuracy: 0.8519 - val_loss: 0.9228 - val_accuracy: 0.8370\n",
      "Epoch 55/100\n",
      "23/23 [==============================] - 62s 3s/step - loss: 0.3903 - accuracy: 0.8913 - val_loss: 0.5303 - val_accuracy: 0.8533\n",
      "Epoch 56/100\n",
      "23/23 [==============================] - 63s 3s/step - loss: 0.2283 - accuracy: 0.9158 - val_loss: 0.6276 - val_accuracy: 0.8478\n",
      "Epoch 57/100\n",
      "23/23 [==============================] - 62s 3s/step - loss: 0.2176 - accuracy: 0.9062 - val_loss: 0.7305 - val_accuracy: 0.8478\n",
      "Epoch 58/100\n",
      "23/23 [==============================] - 62s 3s/step - loss: 0.2357 - accuracy: 0.9117 - val_loss: 0.5275 - val_accuracy: 0.8533\n",
      "Epoch 59/100\n",
      "23/23 [==============================] - 63s 3s/step - loss: 0.2107 - accuracy: 0.9117 - val_loss: 0.6833 - val_accuracy: 0.8478\n",
      "Epoch 60/100\n",
      "23/23 [==============================] - 61s 3s/step - loss: 0.2274 - accuracy: 0.9103 - val_loss: 0.7153 - val_accuracy: 0.8370\n",
      "Epoch 61/100\n",
      "23/23 [==============================] - 59s 3s/step - loss: 0.2222 - accuracy: 0.9076 - val_loss: 0.5057 - val_accuracy: 0.8424\n",
      "Epoch 62/100\n",
      "23/23 [==============================] - 59s 3s/step - loss: 0.2169 - accuracy: 0.9103 - val_loss: 0.8041 - val_accuracy: 0.8478\n",
      "Epoch 63/100\n",
      "23/23 [==============================] - 56s 2s/step - loss: 0.2245 - accuracy: 0.9117 - val_loss: 0.8339 - val_accuracy: 0.8424\n",
      "Epoch 64/100\n",
      "23/23 [==============================] - 55s 2s/step - loss: 0.3429 - accuracy: 0.8804 - val_loss: 0.9663 - val_accuracy: 0.8370\n",
      "Epoch 65/100\n",
      "23/23 [==============================] - 54s 2s/step - loss: 0.2113 - accuracy: 0.9103 - val_loss: 1.2822 - val_accuracy: 0.8370\n",
      "Epoch 66/100\n",
      "23/23 [==============================] - 55s 2s/step - loss: 0.2102 - accuracy: 0.9103 - val_loss: 0.8137 - val_accuracy: 0.8370\n",
      "Epoch 67/100\n",
      "23/23 [==============================] - 55s 2s/step - loss: 0.2006 - accuracy: 0.9144 - val_loss: 1.0451 - val_accuracy: 0.8370\n",
      "Epoch 68/100\n",
      "23/23 [==============================] - 55s 2s/step - loss: 0.2188 - accuracy: 0.9103 - val_loss: 1.3466 - val_accuracy: 0.8370\n",
      "Epoch 69/100\n",
      "23/23 [==============================] - 55s 2s/step - loss: 0.2125 - accuracy: 0.9130 - val_loss: 0.9785 - val_accuracy: 0.8424\n",
      "Epoch 70/100\n",
      "23/23 [==============================] - 55s 2s/step - loss: 0.2052 - accuracy: 0.9144 - val_loss: 1.0897 - val_accuracy: 0.8424\n",
      "Epoch 71/100\n",
      "23/23 [==============================] - 54s 2s/step - loss: 0.2002 - accuracy: 0.9130 - val_loss: 0.7124 - val_accuracy: 0.8370\n",
      "Epoch 72/100\n",
      "23/23 [==============================] - 55s 2s/step - loss: 0.2117 - accuracy: 0.9103 - val_loss: 0.6042 - val_accuracy: 0.8315\n",
      "Epoch 73/100\n",
      "23/23 [==============================] - 55s 2s/step - loss: 0.2226 - accuracy: 0.9090 - val_loss: 0.8284 - val_accuracy: 0.8370\n",
      "Epoch 74/100\n",
      "23/23 [==============================] - 55s 2s/step - loss: 0.2112 - accuracy: 0.9103 - val_loss: 0.7433 - val_accuracy: 0.8424\n",
      "Epoch 75/100\n",
      "23/23 [==============================] - 55s 2s/step - loss: 0.2094 - accuracy: 0.9062 - val_loss: 1.0796 - val_accuracy: 0.8207\n",
      "Epoch 76/100\n",
      "23/23 [==============================] - 56s 2s/step - loss: 0.1968 - accuracy: 0.9144 - val_loss: 1.5927 - val_accuracy: 0.8207\n",
      "Epoch 77/100\n",
      "23/23 [==============================] - 55s 2s/step - loss: 0.2171 - accuracy: 0.9158 - val_loss: 0.6008 - val_accuracy: 0.8261\n",
      "Epoch 78/100\n",
      "23/23 [==============================] - 55s 2s/step - loss: 0.1941 - accuracy: 0.9144 - val_loss: 0.6230 - val_accuracy: 0.8315\n",
      "Epoch 79/100\n",
      "23/23 [==============================] - 55s 2s/step - loss: 0.1943 - accuracy: 0.9144 - val_loss: 0.6664 - val_accuracy: 0.8370\n",
      "Epoch 80/100\n",
      "23/23 [==============================] - 56s 2s/step - loss: 0.1928 - accuracy: 0.9158 - val_loss: 0.8372 - val_accuracy: 0.8261\n",
      "Epoch 81/100\n",
      "23/23 [==============================] - 57s 2s/step - loss: 0.1940 - accuracy: 0.9158 - val_loss: 0.5961 - val_accuracy: 0.8370\n",
      "Epoch 82/100\n",
      "23/23 [==============================] - 58s 3s/step - loss: 0.1931 - accuracy: 0.9130 - val_loss: 0.6686 - val_accuracy: 0.8315\n",
      "Epoch 83/100\n",
      "23/23 [==============================] - 61s 3s/step - loss: 0.1932 - accuracy: 0.9158 - val_loss: 1.4480 - val_accuracy: 0.8152\n",
      "Epoch 84/100\n",
      "23/23 [==============================] - 56s 2s/step - loss: 0.1938 - accuracy: 0.9144 - val_loss: 0.9635 - val_accuracy: 0.8261\n",
      "Epoch 85/100\n",
      "23/23 [==============================] - 59s 3s/step - loss: 0.1918 - accuracy: 0.9158 - val_loss: 0.7986 - val_accuracy: 0.8370\n",
      "Epoch 86/100\n",
      "23/23 [==============================] - 60s 3s/step - loss: 0.1918 - accuracy: 0.9158 - val_loss: 1.2254 - val_accuracy: 0.8315\n",
      "Epoch 87/100\n",
      "23/23 [==============================] - 61s 3s/step - loss: 0.1908 - accuracy: 0.9158 - val_loss: 1.4852 - val_accuracy: 0.8261\n",
      "Epoch 88/100\n",
      "23/23 [==============================] - 61s 3s/step - loss: 0.1908 - accuracy: 0.9158 - val_loss: 0.7850 - val_accuracy: 0.8424\n",
      "Epoch 89/100\n",
      "23/23 [==============================] - 60s 3s/step - loss: 0.1907 - accuracy: 0.9158 - val_loss: 0.9802 - val_accuracy: 0.8315\n",
      "Epoch 90/100\n",
      "23/23 [==============================] - 59s 3s/step - loss: 0.1905 - accuracy: 0.9158 - val_loss: 1.0986 - val_accuracy: 0.8207\n",
      "Epoch 91/100\n",
      "23/23 [==============================] - 57s 2s/step - loss: 0.1903 - accuracy: 0.9158 - val_loss: 1.1049 - val_accuracy: 0.8207\n",
      "Epoch 92/100\n",
      "23/23 [==============================] - 58s 3s/step - loss: 0.1902 - accuracy: 0.9158 - val_loss: 1.0972 - val_accuracy: 0.8261\n",
      "Epoch 93/100\n",
      "23/23 [==============================] - 61s 3s/step - loss: 0.1901 - accuracy: 0.9158 - val_loss: 1.0962 - val_accuracy: 0.8207\n",
      "Epoch 94/100\n",
      "23/23 [==============================] - 62s 3s/step - loss: 0.1900 - accuracy: 0.9158 - val_loss: 1.0956 - val_accuracy: 0.8207\n",
      "Epoch 95/100\n",
      "23/23 [==============================] - 66s 3s/step - loss: 0.1897 - accuracy: 0.9158 - val_loss: 1.0967 - val_accuracy: 0.8207\n",
      "Epoch 96/100\n",
      "23/23 [==============================] - 60s 3s/step - loss: 0.1897 - accuracy: 0.9158 - val_loss: 1.0940 - val_accuracy: 0.8207\n",
      "Epoch 97/100\n",
      "23/23 [==============================] - 60s 3s/step - loss: 0.1895 - accuracy: 0.9158 - val_loss: 1.0945 - val_accuracy: 0.8207\n",
      "Epoch 98/100\n",
      "23/23 [==============================] - 61s 3s/step - loss: 0.1895 - accuracy: 0.9158 - val_loss: 1.0927 - val_accuracy: 0.8207\n",
      "Epoch 99/100\n",
      "23/23 [==============================] - 61s 3s/step - loss: 0.1894 - accuracy: 0.9158 - val_loss: 1.0942 - val_accuracy: 0.8207\n",
      "Epoch 100/100\n",
      "23/23 [==============================] - 62s 3s/step - loss: 0.1893 - accuracy: 0.9158 - val_loss: 1.0938 - val_accuracy: 0.8207\n"
     ]
    },
    {
     "data": {
      "text/plain": [
       "<keras.callbacks.History at 0x25e544706a0>"
      ]
     },
     "execution_count": 15,
     "metadata": {},
     "output_type": "execute_result"
    }
   ],
   "source": [
    "\n",
    "model.fit(X_train, y_train, batch_size=32, epochs=100, validation_data=(X_test, y_test))"
   ]
  },
  {
   "cell_type": "code",
   "execution_count": 16,
   "metadata": {},
   "outputs": [
    {
     "name": "stdout",
     "output_type": "stream",
     "text": [
      "23/23 [==============================] - 11s 486ms/step - loss: 0.1891 - accuracy: 0.9158\n",
      "Training Accuracy:  0.91576087474823\n",
      "6/6 [==============================] - 3s 460ms/step - loss: 1.0938 - accuracy: 0.8207\n",
      "Testing Accuracy:  0.820652186870575\n"
     ]
    }
   ],
   "source": [
    "# Evaluating the model on the training and testing set\n",
    "score = model.evaluate(X_train, y_train)\n",
    "print(\"Training Accuracy: \", score[1])\n",
    "\n",
    "score = model.evaluate(X_test, y_test)\n",
    "print(\"Testing Accuracy: \", score[1])"
   ]
  },
  {
   "cell_type": "code",
   "execution_count": 17,
   "metadata": {},
   "outputs": [],
   "source": [
    "model.save('predictorModel.h5')"
   ]
  },
  {
   "cell_type": "code",
   "execution_count": 32,
   "metadata": {},
   "outputs": [
    {
     "name": "stdout",
     "output_type": "stream",
     "text": [
      "(1, 40, 862, 1)\n"
     ]
    }
   ],
   "source": [
    "model = tf.keras.models.load_model('predictorModel.h5')\n",
    "\n",
    "# Load the input data\n",
    "input_data = extract_features('./RespiratorySoundDatabase/Respiratory_Sound_Database/Respiratory_Sound_Database/audio_and_txt_files/129_1b1_Ar_sc_Meditron.wav')\n",
    "\n",
    "\n",
    "input_data = input_data.reshape(1, 40, 862, 1)\n",
    "print(input_data.shape)\n",
    "\n",
    "\n"
   ]
  },
  {
   "cell_type": "code",
   "execution_count": 30,
   "metadata": {},
   "outputs": [
    {
     "name": "stdout",
     "output_type": "stream",
     "text": [
      "['Bronchiectasis' 'Bronchiolitis' 'COPD' 'Healthy' 'Pneumonia' 'URTI']\n",
      "./RespiratorySoundDatabase/Respiratory_Sound_Database/Respiratory_Sound_Database/audio_and_txt_files/129_1b1_Ar_sc_Meditron.wav\n",
      "URTI\n"
     ]
    }
   ],
   "source": [
    "\n",
    "lbls = np.unique(labels)\n",
    "print(lbls)\n",
    "print(filepaths[110])\n",
    "print(labels[110])"
   ]
  },
  {
   "cell_type": "code",
   "execution_count": 31,
   "metadata": {},
   "outputs": [
    {
     "name": "stdout",
     "output_type": "stream",
     "text": [
      "1/1 [==============================] - 0s 129ms/step\n",
      "[0.06260331 0.07407247 0.05015578 0.298876   0.30701542 0.207277  ]\n",
      "Pneumonia\n"
     ]
    }
   ],
   "source": [
    "# Make predictions\n",
    "predictions = model.predict(input_data)\n",
    "\n",
    "# Print the predictions\n",
    "predictions = predictions.reshape(6)\n",
    "print(predictions)\n",
    "mx = predictions[0]\n",
    "index = 0 \n",
    "for i in predictions:\n",
    "    if i > mx :\n",
    "        mx = i \n",
    "# print(mx)\n",
    "indices = np.where(predictions == mx)\n",
    "\n",
    "# Print the indices\n",
    "# print(indices)\n",
    "\n",
    "# Create the dictionary\n",
    "dictionary = dict(zip(lbls, predictions))\n",
    "\n",
    "# print(dictionary)\n",
    "max_element = max(dictionary,key=dictionary.get)\n",
    "print(max_element)"
   ]
  }
 ],
 "metadata": {
  "kernelspec": {
   "display_name": "Python 3",
   "language": "python",
   "name": "python3"
  },
  "language_info": {
   "codemirror_mode": {
    "name": "ipython",
    "version": 3
   },
   "file_extension": ".py",
   "mimetype": "text/x-python",
   "name": "python",
   "nbconvert_exporter": "python",
   "pygments_lexer": "ipython3",
   "version": "3.10.11"
  },
  "orig_nbformat": 4
 },
 "nbformat": 4,
 "nbformat_minor": 2
}
